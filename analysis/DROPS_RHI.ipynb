{
 "cells": [
  {
   "cell_type": "markdown",
   "metadata": {},
   "source": [
    "# DROPS for RHI to compute statistics#\n",
    "\n",
    "Ivan Arias\n",
    "\n",
    "2019/10/31"
   ]
  },
  {
   "cell_type": "code",
   "execution_count": 3,
   "metadata": {},
   "outputs": [],
   "source": [
    "import os\n",
    "\n",
    "os.system('ls -l')\n",
    "\n",
    "filename = '/net/denali/storage/radar/RELAMPAGO/NetCDF/20181110/cfrad.20181110_210837.262_to_20181110_211109.213_col-radar_REL_RHI45_RHI.nc'\n",
    "\n",
    "filename_out = './cfrad.20181110_210837.262_to_20181110_211109.213_col-radar_REL_RHI45_RHI.nc'\n",
    "\n",
    "input_path = '/net/denali/storage/radar/RELAMPAGO/NetCDF/20190125/'\n",
    "output_path = '/net/denali/storage2/radar2/tmp/Ivan/Field_Campaigns/Relampago/Analisis/Attenuation/NetCDF/20190125_1900to2130/DROPS/'\n",
    "sounding_file = ' '\n",
    "HydroClass_exe = '/net/denali/storage2/radar2/tmp/Ivan/Utiles/DROPS2/hydroclass'\n",
    "\n",
    "config_file = '/net/denali/storage2/radar2/tmp/Ivan/Utiles/DROPS2/RE_CSAPR_CHIVO_forCHIVO.v4.ini'\n",
    "membership_functions = '/net/denali/storage2/radar2/tmp/Ivan/Utiles/DROPS2/membership_functions/'\n",
    "\n",
    "\n",
    "cmd = HydroClass_exe  + ' ' + filename + ' -o ' + filename_out + ' -c ' + config_file + ' -s ' + sounding_file + ' -m VHS -d ' + membership_functions\n",
    "\n",
    "os.system(cmd)"
   ]
  },
  {
   "cell_type": "code",
   "execution_count": null,
   "metadata": {},
   "outputs": [
    {
     "name": "stdout",
     "output_type": "stream",
     "text": [
      "cfrad.20181110_201954.314_to_20181110_202044.122_col-radar_REL_RHI45_RHI.nc\n",
      "cfrad.20181110_202046.448_to_20181110_202136.294_col-radar_REL_RHI45_RHI.nc\n",
      "cfrad.20181110_202308.392_to_20181110_202449.125_col-radar_REL_RHI45_RHI.nc\n",
      "cfrad.20181110_202451.169_to_20181110_202632.527_col-radar_REL_RHI45_RHI.nc\n",
      "cfrad.20181110_202647.004_to_20181110_202829.315_col-radar_REL_RHI45_RHI.nc\n",
      "cfrad.20181110_202831.751_to_20181110_203012.768_col-radar_REL_RHI45_RHI.nc\n",
      "cfrad.20181110_203248.429_to_20181110_203428.975_col-radar_REL_RHI45_RHI.nc\n",
      "cfrad.20181110_203430.970_to_20181110_203613.437_col-radar_REL_RHI45_RHI.nc\n",
      "cfrad.20181110_205558.714_to_20181110_205831.408_col-radar_REL_RHI45_RHI.nc\n",
      "cfrad.20181110_205834.116_to_20181110_210106.654_col-radar_REL_RHI45_RHI.nc\n",
      "cfrad.20181110_210503.677_to_20181110_210738.210_col-radar_REL_RHI45_RHI.nc\n",
      "cfrad.20181110_210741.801_to_20181110_210825.335_col-radar_REL_RHI45_RHI.nc\n",
      "cfrad.20181110_210837.262_to_20181110_211109.213_col-radar_REL_RHI45_RHI.nc\n",
      "cfrad.20181110_211112.009_to_20181110_211151.593_col-radar_REL_RHI45_RHI.nc\n",
      "cfrad.20181110_212721.717_to_20181110_212903.217_col-radar_REL_RHI45_RHI.nc\n",
      "cfrad.20181110_212906.328_to_20181110_213028.995_col-radar_REL_RHI45_RHI.nc\n"
     ]
    }
   ],
   "source": [
    "import glob\n",
    "\n",
    "path = '/net/denali/storage/radar/RELAMPAGO/NetCDF/'\n",
    "files = [f for f in glob.glob(path + \"**/*RHI*.nc\", recursive=True)]\n",
    "files.sort()\n",
    "\n",
    "for file in files:\n",
    "    if 'RHI' in file:\n",
    "        filename = os.path.basename(file)\n",
    "        print(filename)\n",
    "        cmd = HydroClass_exe  + ' ' + file + ' -o /.' + filename + ' -c ' + config_file + ' -s ' + sounding_file + ' -m VHS -d ' + membership_functions\n",
    "        os.system(cmd)\n",
    "        cmd = 'ncks -A -v fixed_angle ' + file + ' ./' + filename\n",
    "        os.system(cmd)\n",
    "        cmd = 'ncks -A -v sweep_mode ' + file + ' ./' + filename;\n",
    "        os.system(cmd)\n",
    "        \n"
   ]
  },
  {
   "cell_type": "code",
   "execution_count": 6,
   "metadata": {},
   "outputs": [
    {
     "name": "stdout",
     "output_type": "stream",
     "text": [
      "cfrad.20181110_210837.262_to_20181110_211109.213_col-radar_REL_RHI45_RHI.nc\n"
     ]
    }
   ],
   "source": [
    "print(os.path.basename(filename))"
   ]
  },
  {
   "cell_type": "code",
   "execution_count": 4,
   "metadata": {},
   "outputs": [
    {
     "data": {
      "text/plain": [
       "'/net/denali/storage2/radar2/tmp/Ivan/Utiles/DROPS2/hydroclass /net/denali/storage/radar/RELAMPAGO/NetCDF/20181110/cfrad.20181110_210837.262_to_20181110_211109.213_col-radar_REL_RHI45_RHI.nc -o ./cfrad.20181110_210837.262_to_20181110_211109.213_col-radar_REL_RHI45_RHI.nc -c /net/denali/storage2/radar2/tmp/Ivan/Utiles/DROPS2/RE_CSAPR_CHIVO_forCHIVO.v4.ini -s   -m VHS -d /net/denali/storage2/radar2/tmp/Ivan/Utiles/DROPS2/membership_functions/'"
      ]
     },
     "execution_count": 4,
     "metadata": {},
     "output_type": "execute_result"
    }
   ],
   "source": [
    "cmd"
   ]
  },
  {
   "cell_type": "code",
   "execution_count": 5,
   "metadata": {},
   "outputs": [
    {
     "data": {
      "text/plain": [
       "0"
      ]
     },
     "execution_count": 5,
     "metadata": {},
     "output_type": "execute_result"
    }
   ],
   "source": [
    "os.system(cmd)"
   ]
  }
 ],
 "metadata": {
  "kernelspec": {
   "display_name": "Python 3",
   "language": "python",
   "name": "python3"
  },
  "language_info": {
   "codemirror_mode": {
    "name": "ipython",
    "version": 3
   },
   "file_extension": ".py",
   "mimetype": "text/x-python",
   "name": "python",
   "nbconvert_exporter": "python",
   "pygments_lexer": "ipython3",
   "version": "3.7.1"
  }
 },
 "nbformat": 4,
 "nbformat_minor": 2
}
