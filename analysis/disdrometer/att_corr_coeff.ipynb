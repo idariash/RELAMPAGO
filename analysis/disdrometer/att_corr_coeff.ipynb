{
 "cells": [
  {
   "cell_type": "code",
   "execution_count": 1,
   "metadata": {},
   "outputs": [],
   "source": [
    "import pydsd\n",
    "import matplotlib.pyplot as plt\n",
    "from matplotlib.colors import LogNorm\n",
    "import numpy as np\n",
    "import pydsd.plot\n",
    "\n",
    "import sys\n",
    "\n",
    "import glob\n",
    "from pandas import DataFrame"
   ]
  },
  {
   "cell_type": "code",
   "execution_count": 2,
   "metadata": {
    "scrolled": true
   },
   "outputs": [
    {
     "name": "stderr",
     "output_type": "stream",
     "text": [
      "/top/students/GRAD/ECE/idariash/home/anaconda3/lib/python3.7/site-packages/pydsd/DropSizeDistribution.py:348: RuntimeWarning: invalid value encountered in true_divide\n",
      "  self._calc_mth_moment(4), self._calc_mth_moment(3)\n",
      "/top/students/GRAD/ECE/idariash/home/anaconda3/lib/python3.7/site-packages/pytmatrix/psd.py:174: RuntimeWarning: invalid value encountered in double_scalars\n",
      "  self.nf = Nw * 6.0/3.67**4 * (3.67+mu)**(mu+4)/gamma(mu+4)\n",
      "/top/students/GRAD/ECE/idariash/home/anaconda3/lib/python3.7/site-packages/pytmatrix/psd.py:178: RuntimeWarning: overflow encountered in exp\n",
      "  psd = self.nf * np.exp(self.mu*np.log(d)-(3.67+self.mu)*d)\n",
      "/top/students/GRAD/ECE/idariash/home/anaconda3/lib/python3.7/site-packages/pydsd/DropSizeDistribution.py:466: RuntimeWarning: invalid value encountered in true_divide\n",
      "  Lambda = np.power(np.divide(num, den), (1 / (moment_2 - moment_1)))\n",
      "/top/students/GRAD/ECE/idariash/home/anaconda3/lib/python3.7/site-packages/pydsd/DropSizeDistribution.py:233: RuntimeWarning: divide by zero encountered in log10\n",
      "  self.fields[\"Zh\"][\"data\"][t] = 10 * np.log10(radar.refl(self.scatterer))\n",
      "/top/students/GRAD/ECE/idariash/home/anaconda3/lib/python3.7/site-packages/pytmatrix/radar.py:78: RuntimeWarning: invalid value encountered in double_scalars\n",
      "  return radar_xsect(scatterer, True)/radar_xsect(scatterer, False)\n"
     ]
    },
    {
     "name": "stdout",
     "output_type": "stream",
     "text": [
      "/net/denali/storage2/radar2/tmp/Ivan/DOE/RELAMPAGO/disdromter/217667/corvdisM1.b1.20181101.000000.cdf\n",
      "/net/denali/storage2/radar2/tmp/Ivan/DOE/RELAMPAGO/disdromter/217667/corvdisM1.b1.20181102.000000.cdf\n",
      "/net/denali/storage2/radar2/tmp/Ivan/DOE/RELAMPAGO/disdromter/217667/corvdisM1.b1.20181103.000000.cdf\n",
      "/net/denali/storage2/radar2/tmp/Ivan/DOE/RELAMPAGO/disdromter/217667/corvdisM1.b1.20181104.000000.cdf\n",
      "/net/denali/storage2/radar2/tmp/Ivan/DOE/RELAMPAGO/disdromter/217667/corvdisM1.b1.20181105.000000.cdf\n",
      "/net/denali/storage2/radar2/tmp/Ivan/DOE/RELAMPAGO/disdromter/217667/corvdisM1.b1.20181106.000000.cdf\n",
      "/net/denali/storage2/radar2/tmp/Ivan/DOE/RELAMPAGO/disdromter/217667/corvdisM1.b1.20181107.000000.cdf\n",
      "/net/denali/storage2/radar2/tmp/Ivan/DOE/RELAMPAGO/disdromter/217667/corvdisM1.b1.20181108.000000.cdf\n",
      "/net/denali/storage2/radar2/tmp/Ivan/DOE/RELAMPAGO/disdromter/217667/corvdisM1.b1.20181109.000000.cdf\n",
      "/net/denali/storage2/radar2/tmp/Ivan/DOE/RELAMPAGO/disdromter/217667/corvdisM1.b1.20181110.000000.cdf\n",
      "/net/denali/storage2/radar2/tmp/Ivan/DOE/RELAMPAGO/disdromter/217667/corvdisM1.b1.20181111.000000.cdf\n",
      "/net/denali/storage2/radar2/tmp/Ivan/DOE/RELAMPAGO/disdromter/217667/corvdisM1.b1.20181114.000000.cdf\n",
      "/net/denali/storage2/radar2/tmp/Ivan/DOE/RELAMPAGO/disdromter/217667/corvdisM1.b1.20181115.000000.cdf\n",
      "/net/denali/storage2/radar2/tmp/Ivan/DOE/RELAMPAGO/disdromter/217667/corvdisM1.b1.20181116.000000.cdf\n",
      "/net/denali/storage2/radar2/tmp/Ivan/DOE/RELAMPAGO/disdromter/217667/corvdisM1.b1.20181117.000000.cdf\n",
      "/net/denali/storage2/radar2/tmp/Ivan/DOE/RELAMPAGO/disdromter/217667/corvdisM1.b1.20181118.000000.cdf\n",
      "/net/denali/storage2/radar2/tmp/Ivan/DOE/RELAMPAGO/disdromter/217667/corvdisM1.b1.20181119.000000.cdf\n",
      "/net/denali/storage2/radar2/tmp/Ivan/DOE/RELAMPAGO/disdromter/217667/corvdisM1.b1.20181120.000000.cdf\n",
      "/net/denali/storage2/radar2/tmp/Ivan/DOE/RELAMPAGO/disdromter/217667/corvdisM1.b1.20181121.000000.cdf\n",
      "/net/denali/storage2/radar2/tmp/Ivan/DOE/RELAMPAGO/disdromter/217667/corvdisM1.b1.20181122.000000.cdf\n",
      "/net/denali/storage2/radar2/tmp/Ivan/DOE/RELAMPAGO/disdromter/217667/corvdisM1.b1.20181123.000000.cdf\n",
      "/net/denali/storage2/radar2/tmp/Ivan/DOE/RELAMPAGO/disdromter/217667/corvdisM1.b1.20181124.000000.cdf\n",
      "/net/denali/storage2/radar2/tmp/Ivan/DOE/RELAMPAGO/disdromter/217667/corvdisM1.b1.20181125.000000.cdf\n",
      "/net/denali/storage2/radar2/tmp/Ivan/DOE/RELAMPAGO/disdromter/217667/corvdisM1.b1.20181126.000000.cdf\n",
      "/net/denali/storage2/radar2/tmp/Ivan/DOE/RELAMPAGO/disdromter/217667/corvdisM1.b1.20181128.000000.cdf\n",
      "/net/denali/storage2/radar2/tmp/Ivan/DOE/RELAMPAGO/disdromter/217667/corvdisM1.b1.20181129.000000.cdf\n",
      "/net/denali/storage2/radar2/tmp/Ivan/DOE/RELAMPAGO/disdromter/217667/corvdisM1.b1.20181130.000000.cdf\n"
     ]
    }
   ],
   "source": [
    "path = '/net/denali/storage2/radar2/tmp/Ivan/DOE/RELAMPAGO/disdromter/217667/'\n",
    "files = [f for f in glob.glob(path + \"**/*corvdisM1.b1.201811*\", recursive=True)]\n",
    "files.sort()\n",
    "\n",
    "statistics = {'time': [],'Adr': [],'Ai': [], 'Kdp': [], 'rain_rate': [], 'Dmax': [], 'Dm': []}\n",
    "\n",
    "for file in files:\n",
    "    dsd = pydsd.aux_readers.ARM_Vdis_Reader.read_arm_vdis_b1(file)\n",
    "    dsd.calculate_dsd_parameterization()\n",
    "    dsd.calculate_radar_parameters()\n",
    "    statistics['time'].append(dsd.fields['Adr']['data'])\n",
    "    statistics['Adr'].append(dsd.fields['Adr']['data'])\n",
    "    statistics['Ai'].append(dsd.fields['Ai']['data'])\n",
    "    statistics['Kdp'].append(dsd.fields['Kdp']['data'])\n",
    "    statistics['rain_rate'].append(dsd.fields['rain_rate']['data'])\n",
    "    statistics['Dmax'].append(dsd.fields['Dmax']['data'])\n",
    "    statistics['Dm'].append(dsd.fields['Dm']['data'])\n",
    "    print(file)\n"
   ]
  },
  {
   "cell_type": "code",
   "execution_count": 18,
   "metadata": {},
   "outputs": [],
   "source": [
    "results = {}\n",
    "for k, v in statistics.items():\n",
    "    results[k] = np.concatenate(statistics[k])"
   ]
  },
  {
   "cell_type": "code",
   "execution_count": 19,
   "metadata": {},
   "outputs": [
    {
     "data": {
      "text/plain": [
       "{'Adr': masked_array(data=[-1.80058131e-08,  3.11747472e-05,  2.24298585e-04, ...,\n",
       "                     0.00000000e+00,  0.00000000e+00,  0.00000000e+00],\n",
       "              mask=False,\n",
       "        fill_value=1e+20),\n",
       " 'Ai': masked_array(data=[2.63941141e-06, 9.23897114e-04, 4.46518855e-03, ...,\n",
       "                    0.00000000e+00, 0.00000000e+00, 0.00000000e+00],\n",
       "              mask=False,\n",
       "        fill_value=1e+20),\n",
       " 'Kdp': masked_array(data=[-3.97858849e-06,  5.80038179e-03,  3.76308739e-02, ...,\n",
       "                     0.00000000e+00,  0.00000000e+00,  0.00000000e+00],\n",
       "              mask=False,\n",
       "        fill_value=1e+20),\n",
       " 'rain_rate': masked_array(data=[0.18146813, 1.3463764 , 2.1456633 , ..., 0.        ,\n",
       "                    0.        , 0.        ],\n",
       "              mask=False,\n",
       "        fill_value=1e+20,\n",
       "             dtype=float32),\n",
       " 'Dmax': masked_array(data=[0.1       , 1.5       , 1.89999998, ..., 0.        ,\n",
       "                    0.        , 0.        ],\n",
       "              mask=False,\n",
       "        fill_value=1e+20),\n",
       " 'Dm': masked_array(data=[0.1       , 1.09974991, 1.34282066, ..., 1.        ,\n",
       "                    1.        , 1.        ],\n",
       "              mask=False,\n",
       "        fill_value=1e+20)}"
      ]
     },
     "execution_count": 19,
     "metadata": {},
     "output_type": "execute_result"
    }
   ],
   "source": [
    "results"
   ]
  },
  {
   "cell_type": "code",
   "execution_count": 20,
   "metadata": {},
   "outputs": [],
   "source": [
    "df = DataFrame(results, \n",
    "               columns= ['Adr','Ai', 'Kdp', 'rain_rate', 'Dmax', 'Dm'])\n",
    "export_excel = df.to_excel (r'./disdrometer.xlsx', index = None, header=True)"
   ]
  },
  {
   "cell_type": "code",
   "execution_count": 5,
   "metadata": {},
   "outputs": [
    {
     "data": {
      "text/plain": [
       "<matplotlib.collections.PathCollection at 0x7f93cf24dad0>"
      ]
     },
     "execution_count": 5,
     "metadata": {},
     "output_type": "execute_result"
    },
    {
     "data": {
      "image/png": "[encoded data removed]",
      "text/plain": [
       "<Figure size 432x288 with 1 Axes>"
      ]
     },
     "metadata": {
      "needs_background": "light"
     },
     "output_type": "display_data"
    }
   ],
   "source": [
    "plt.scatter(statistics['Kdp'], statistics['Adr'])"
   ]
  },
  {
   "cell_type": "code",
   "execution_count": 29,
   "metadata": {},
   "outputs": [
    {
     "data": {
      "text/plain": [
       "2"
      ]
     },
     "execution_count": 29,
     "metadata": {},
     "output_type": "execute_result"
    }
   ],
   "source": [
    "len(statistics['Adr'])"
   ]
  },
  {
   "cell_type": "code",
   "execution_count": 31,
   "metadata": {},
   "outputs": [
    {
     "data": {
      "text/plain": [
       "[[[[[],\n",
       "    masked_array(data=[-3.31711362e-08,  0.00000000e+00,  0.00000000e+00, ...,\n",
       "                        0.00000000e+00,  0.00000000e+00,  0.00000000e+00],\n",
       "                 mask=False,\n",
       "           fill_value=1e+20)],\n",
       "   masked_array(data=[-3.31711362e-08,  0.00000000e+00,  0.00000000e+00, ...,\n",
       "                       0.00000000e+00,  0.00000000e+00,  0.00000000e+00],\n",
       "                mask=False,\n",
       "          fill_value=1e+20)],\n",
       "  masked_array(data=[-3.31711362e-08,  0.00000000e+00,  0.00000000e+00, ...,\n",
       "                      0.00000000e+00,  0.00000000e+00,  0.00000000e+00],\n",
       "               mask=False,\n",
       "         fill_value=1e+20)],\n",
       " masked_array(data=[-3.31711362e-08,  0.00000000e+00,  0.00000000e+00, ...,\n",
       "                     0.00000000e+00,  0.00000000e+00,  0.00000000e+00],\n",
       "              mask=False,\n",
       "        fill_value=1e+20)]"
      ]
     },
     "execution_count": 31,
     "metadata": {},
     "output_type": "execute_result"
    }
   ],
   "source": [
    "statistics['Adr']"
   ]
  },
  {
   "cell_type": "code",
   "execution_count": 3,
   "metadata": {},
   "outputs": [
    {
     "name": "stderr",
     "output_type": "stream",
     "text": [
      "/top/students/GRAD/ECE/idariash/home/anaconda3/lib/python3.7/site-packages/pydsd/DropSizeDistribution.py:348: RuntimeWarning: invalid value encountered in true_divide\n",
      "  self._calc_mth_moment(4), self._calc_mth_moment(3)\n",
      "/top/students/GRAD/ECE/idariash/home/anaconda3/lib/python3.7/site-packages/pytmatrix/psd.py:174: RuntimeWarning: invalid value encountered in double_scalars\n",
      "  self.nf = Nw * 6.0/3.67**4 * (3.67+mu)**(mu+4)/gamma(mu+4)\n",
      "/top/students/GRAD/ECE/idariash/home/anaconda3/lib/python3.7/site-packages/pytmatrix/psd.py:178: RuntimeWarning: overflow encountered in exp\n",
      "  psd = self.nf * np.exp(self.mu*np.log(d)-(3.67+self.mu)*d)\n",
      "/top/students/GRAD/ECE/idariash/home/anaconda3/lib/python3.7/site-packages/pydsd/DropSizeDistribution.py:466: RuntimeWarning: invalid value encountered in true_divide\n",
      "  Lambda = np.power(np.divide(num, den), (1 / (moment_2 - moment_1)))\n"
     ]
    },
    {
     "data": {
      "text/plain": [
       "(<matplotlib.axes._subplots.AxesSubplot at 0x7efc9bfd6550>,\n",
       " <matplotlib.axes._subplots.AxesSubplot at 0x7efc9bfd6550>)"
      ]
     },
     "execution_count": 3,
     "metadata": {},
     "output_type": "execute_result"
    },
    {
     "data": {
      "image/png": "[encoded data removed]",
      "text/plain": [
       "<Figure size 432x288 with 1 Axes>"
      ]
     },
     "metadata": {
      "needs_background": "light"
     },
     "output_type": "display_data"
    }
   ],
   "source": [
    "filename = '/net/denali/storage2/radar2/tmp/Ivan/DOE/RELAMPAGO/disdromter/217667/corvdisM1.b1.20181214.000000.cdf'\n",
    "\n",
    "dsd = pydsd.aux_readers.ARM_Vdis_Reader.read_arm_vdis_b1(filename)\n",
    "\n",
    "dsd.calculate_dsd_parameterization()\n",
    "\n",
    "\n",
    "pydsd.plot.plot_ts(dsd, 'D0', x_min_tick_format='hour')"
   ]
  },
  {
   "cell_type": "code",
   "execution_count": 4,
   "metadata": {},
   "outputs": [
    {
     "data": {
      "text/plain": [
       "(<Figure size 576x360 with 2 Axes>,\n",
       " <matplotlib.axes._subplots.AxesSubplot at 0x7efc9b7546d0>)"
      ]
     },
     "execution_count": 4,
     "metadata": {},
     "output_type": "execute_result"
    },
    {
     "data": {
      "image/png": "[encoded data removed]",
      "text/plain": [
       "<Figure size 576x360 with 2 Axes>"
      ]
     },
     "metadata": {
      "needs_background": "light"
     },
     "output_type": "display_data"
    }
   ],
   "source": [
    "fig = plt.figure(figsize=(8,5))\n",
    "pydsd.plot.plot_dsd(dsd, fig=fig)"
   ]
  },
  {
   "cell_type": "code",
   "execution_count": 5,
   "metadata": {},
   "outputs": [
    {
     "name": "stderr",
     "output_type": "stream",
     "text": [
      "/top/students/GRAD/ECE/idariash/home/anaconda3/lib/python3.7/site-packages/pydsd/DropSizeDistribution.py:233: RuntimeWarning: divide by zero encountered in log10\n",
      "  self.fields[\"Zh\"][\"data\"][t] = 10 * np.log10(radar.refl(self.scatterer))\n",
      "/top/students/GRAD/ECE/idariash/home/anaconda3/lib/python3.7/site-packages/pytmatrix/radar.py:78: RuntimeWarning: invalid value encountered in double_scalars\n",
      "  return radar_xsect(scatterer, True)/radar_xsect(scatterer, False)\n"
     ]
    },
    {
     "data": {
      "text/plain": [
       "<matplotlib.collections.PathCollection at 0x7efc9b2fbed0>"
      ]
     },
     "execution_count": 5,
     "metadata": {},
     "output_type": "execute_result"
    },
    {
     "data": {
      "image/png": "[encoded data removed]",
      "text/plain": [
       "<Figure size 576x360 with 1 Axes>"
      ]
     },
     "metadata": {
      "needs_background": "light"
     },
     "output_type": "display_data"
    }
   ],
   "source": [
    "dsd.calculate_radar_parameters()\n",
    "\n",
    "fig2 = plt.figure(figsize=(8,5))\n",
    "plt.scatter(dsd.fields['Kdp']['data'], dsd.fields['Ai']['data'])"
   ]
  }
 ],
 "metadata": {
  "kernelspec": {
   "display_name": "Python 3",
   "language": "python",
   "name": "python3"
  },
  "language_info": {
   "codemirror_mode": {
    "name": "ipython",
    "version": 3
   },
   "file_extension": ".py",
   "mimetype": "text/x-python",
   "name": "python",
   "nbconvert_exporter": "python",
   "pygments_lexer": "ipython3",
   "version": "3.7.6"
  }
 },
 "nbformat": 4,
 "nbformat_minor": 4
}
