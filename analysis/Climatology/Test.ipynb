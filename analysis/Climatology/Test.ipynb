{
 "cells": [
  {
   "cell_type": "code",
   "execution_count": 3,
   "metadata": {},
   "outputs": [],
   "source": [
    "import pyart\n",
    "import datetime\n",
    "import netCDF4\n",
    "\n",
    "filename = '/net/denali/storage/radar/RELAMPAGO/DROPS/2018/12/14/cfrad.20181214_014605.932_to_20181214_014920.266_col-radar_REL_RHI45_RHI.nc'\n",
    "\n",
    "radar = pyart.io.read(filename)\n",
    "time_start = netCDF4.num2date(radar.time['data'][0], radar.time['units'])\n",
    "time_text = time_start.isoformat()"
   ]
  },
  {
   "cell_type": "markdown",
   "metadata": {},
   "source": [
    "The following test is for parallel computing"
   ]
  },
  {
   "cell_type": "code",
   "execution_count": 54,
   "metadata": {},
   "outputs": [
    {
     "name": "stdout",
     "output_type": "stream",
     "text": [
      "2018-11-10T20:21:09\n",
      "2018-11-10T20:28:31\n",
      "2018-11-10T21:27:43\n",
      "2018-11-10T20:23:08\n",
      "2018-11-10T20:26:47\n",
      "2018-11-10T21:33:45\n",
      "2018-11-10T20:32:48\n",
      "2018-11-10T22:00:59\n",
      "2018-11-10T20:20:16\n",
      "2018-11-10T21:08:04\n",
      "2018-11-10T21:11:35\n",
      "2018-11-10T21:08:59\n",
      "2018-11-10T20:58:57\n",
      "2018-11-10T20:56:20\n",
      "2018-11-10T21:29:29\n",
      "2018-11-10T22:26:15\n",
      "2018-11-10T22:16:47\n",
      "2018-11-10T21:35:30\n",
      "2018-11-10T20:24:51\n",
      "2018-11-10T21:46:55\n",
      "2018-11-10T20:34:30\n",
      "2018-11-10T21:05:25\n"
     ]
    },
    {
     "ename": "KeyError",
     "evalue": "'max_ref'",
     "output_type": "error",
     "traceback": [
      "\u001b[0;31m---------------------------------------------------------------------------\u001b[0m",
      "\u001b[0;31mKeyError\u001b[0m                                  Traceback (most recent call last)",
      "\u001b[0;32m<ipython-input-54-b66f3b09ab2e>\u001b[0m in \u001b[0;36m<module>\u001b[0;34m\u001b[0m\n\u001b[1;32m     53\u001b[0m     \u001b[0mrelampago_statistics\u001b[0m\u001b[0;34m[\u001b[0m\u001b[0;34m'time_UTC'\u001b[0m\u001b[0;34m]\u001b[0m\u001b[0;34m.\u001b[0m\u001b[0mappend\u001b[0m\u001b[0;34m(\u001b[0m\u001b[0mresults\u001b[0m\u001b[0;34m[\u001b[0m\u001b[0mi\u001b[0m\u001b[0;34m]\u001b[0m\u001b[0;34m[\u001b[0m\u001b[0;36m0\u001b[0m\u001b[0;34m]\u001b[0m\u001b[0;34m)\u001b[0m\u001b[0;34m\u001b[0m\u001b[0;34m\u001b[0m\u001b[0m\n\u001b[1;32m     54\u001b[0m     \u001b[0mrelampago_statistics\u001b[0m\u001b[0;34m[\u001b[0m\u001b[0;34m'echo_top'\u001b[0m\u001b[0;34m]\u001b[0m\u001b[0;34m.\u001b[0m\u001b[0mappend\u001b[0m\u001b[0;34m(\u001b[0m\u001b[0mresults\u001b[0m\u001b[0;34m[\u001b[0m\u001b[0mi\u001b[0m\u001b[0;34m]\u001b[0m\u001b[0;34m[\u001b[0m\u001b[0;36m1\u001b[0m\u001b[0;34m]\u001b[0m\u001b[0;34m)\u001b[0m\u001b[0;34m\u001b[0m\u001b[0;34m\u001b[0m\u001b[0m\n\u001b[0;32m---> 55\u001b[0;31m     \u001b[0mrelampago_statistics\u001b[0m\u001b[0;34m[\u001b[0m\u001b[0;34m'max_ref'\u001b[0m\u001b[0;34m]\u001b[0m\u001b[0;34m.\u001b[0m\u001b[0mappend\u001b[0m\u001b[0;34m(\u001b[0m\u001b[0mresults\u001b[0m\u001b[0;34m[\u001b[0m\u001b[0mi\u001b[0m\u001b[0;34m]\u001b[0m\u001b[0;34m[\u001b[0m\u001b[0;36m2\u001b[0m\u001b[0;34m]\u001b[0m\u001b[0;34m)\u001b[0m\u001b[0;34m\u001b[0m\u001b[0;34m\u001b[0m\u001b[0m\n\u001b[0m\u001b[1;32m     56\u001b[0m     \u001b[0mrelampago_statistics\u001b[0m\u001b[0;34m[\u001b[0m\u001b[0;34m'max_Kdp'\u001b[0m\u001b[0;34m]\u001b[0m\u001b[0;34m.\u001b[0m\u001b[0mappend\u001b[0m\u001b[0;34m(\u001b[0m\u001b[0mresults\u001b[0m\u001b[0;34m[\u001b[0m\u001b[0mi\u001b[0m\u001b[0;34m]\u001b[0m\u001b[0;34m[\u001b[0m\u001b[0;36m3\u001b[0m\u001b[0;34m]\u001b[0m\u001b[0;34m)\u001b[0m\u001b[0;34m\u001b[0m\u001b[0;34m\u001b[0m\u001b[0m\n\u001b[1;32m     57\u001b[0m     \u001b[0mrelampago_statistics\u001b[0m\u001b[0;34m[\u001b[0m\u001b[0;34m'max_Zdr'\u001b[0m\u001b[0;34m]\u001b[0m\u001b[0;34m.\u001b[0m\u001b[0mappend\u001b[0m\u001b[0;34m(\u001b[0m\u001b[0mresults\u001b[0m\u001b[0;34m[\u001b[0m\u001b[0mi\u001b[0m\u001b[0;34m]\u001b[0m\u001b[0;34m[\u001b[0m\u001b[0;36m4\u001b[0m\u001b[0;34m]\u001b[0m\u001b[0;34m)\u001b[0m\u001b[0;34m\u001b[0m\u001b[0;34m\u001b[0m\u001b[0m\n",
      "\u001b[0;31mKeyError\u001b[0m: 'max_ref'"
     ]
    }
   ],
   "source": [
    "import sys\n",
    "sys.path.append('/net/denali/storage2/radar2/tmp/Ivan/CSU/RELAMPAGO/src')\n",
    "\n",
    "import radar_climatology as climatology\n",
    "import os\n",
    "import datetime\n",
    "import netCDF4\n",
    "\n",
    "import importlib\n",
    "importlib.reload(climatology)\n",
    "\n",
    "import glob\n",
    "from pandas import DataFrame\n",
    "import pyart\n",
    "\n",
    "import multiprocessing as mp\n",
    "\n",
    "def radar_statistics(file):\n",
    "    radar = pyart.io.read(file)\n",
    "    time_start = netCDF4.num2date(radar.time['data'][0], radar.time['units'])\n",
    "    time_UTC = time_start.isoformat()\n",
    "    try:\n",
    "        echo_top = climatology.echo_top_drops(file)\n",
    "        max_ref = climatology.max_reflectivity_drops(file)\n",
    "        max_Kdp = climatology.max_Kdp_drops(file)\n",
    "        max_Zdr = climatology.max_Zdr_drops(file)   \n",
    "        min_Zdr = climatology.min_Zdr_drops(file)\n",
    "    except:\n",
    "        echo_top = -1\n",
    "        max_ref = -100\n",
    "        max_Kdp = -100\n",
    "        max_Zdr = -100   \n",
    "        min_Zdr = 100\n",
    "    print(time_UTC)\n",
    "    return (time_UTC, echo_top, max_ref, max_Kdp, max_Zdr, min_Zdr)\n",
    "    \n",
    "pool = mp.Pool(10)\n",
    "path = '/net/denali/storage/radar/RELAMPAGO/DROPS/2018/11/10/'\n",
    "files = [f for f in glob.glob(path + \"**/*RHI*.nc\", recursive=True)]\n",
    "min_Zdr = []\n",
    "\n",
    "results = pool.map_async(radar_statistics, files).get()\n",
    "pool.close()\n",
    "pool.join()\n",
    "\n",
    "resutls = sorted(results, key = lambda x:x[0])\n",
    "\n",
    "relampago_statistics = {'time_UTC':[],'echo_top':[], \n",
    "                        'max_ref': [], 'max_Kdp': [], \n",
    "                        'max_Zdr': [], 'min_Zdr':[]}\n",
    "\n",
    "for i in range(0, len(results)):\n",
    "    relampago_statistics['time_UTC'].append(results[i][0])\n",
    "    relampago_statistics['echo_top'].append(results[i][1])\n",
    "    relampago_statistics['max_ref'].append(results[i][2])\n",
    "    relampago_statistics['max_Kdp'].append(results[i][3])\n",
    "    relampago_statistics['max_Zdr'].append(results[i][4])\n",
    "    relampago_statistics['min_Zdr'].append(results[i][5])\n",
    "\n",
    "df = DataFrame(relampago_statistics, \n",
    "               columns= ['time_UTC', 'echo_top', 'max_ref',\n",
    "                         'max_Kdp', 'max_Zdr', 'min_Zdr'])\n",
    "\n",
    "export_excel = df.to_excel (r'./relampago_statistics_all_Drops.xlsx', index = None, header=True) #Don't forget to add '.xlsx' at the end of the path\n",
    "\n",
    "\n",
    "\n",
    "\n",
    "\n",
    "\n",
    "\n",
    "\n",
    "\n"
   ]
  },
  {
   "cell_type": "code",
   "execution_count": 9,
   "metadata": {},
   "outputs": [],
   "source": [
    "pool.close()"
   ]
  },
  {
   "cell_type": "code",
   "execution_count": 15,
   "metadata": {},
   "outputs": [],
   "source": [
    "sorted_results = sorted(results, key = lambda x:x[0])"
   ]
  },
  {
   "cell_type": "code",
   "execution_count": 55,
   "metadata": {},
   "outputs": [],
   "source": [
    "relampago_statistics = {'time_UTC':[],'echo_top':[], \n",
    "                        'max_ref': [], 'max_Kdp': [], \n",
    "                        'max_Zdr': [], 'min_Zdr':[]}\n",
    "\n",
    "for i in range(0, len(results)):\n",
    "    relampago_statistics['time_UTC'].append(results[i][0])\n",
    "    relampago_statistics['echo_top'].append(results[i][1])\n",
    "    relampago_statistics['max_ref'].append(results[i][2])\n",
    "    relampago_statistics['max_Kdp'].append(results[i][3])\n",
    "    relampago_statistics['max_Zdr'].append(results[i][4])\n",
    "    relampago_statistics['min_Zdr'].append(results[i][5])\n",
    "\n",
    "df = DataFrame(relampago_statistics, \n",
    "               columns= ['time_UTC', 'echo_top', 'max_ref',\n",
    "                         'max_Kdp', 'max_Zdr', 'min_Zdr'])\n",
    "\n",
    "export_excel = df.to_excel (r'./relampago_statistics_all_Drops.xlsx', index = None, header=True) #Don't forget to add '.xlsx' at the end of the path\n"
   ]
  },
  {
   "cell_type": "code",
   "execution_count": 53,
   "metadata": {},
   "outputs": [
    {
     "data": {
      "text/plain": [
       "22"
      ]
     },
     "execution_count": 53,
     "metadata": {},
     "output_type": "execute_result"
    }
   ],
   "source": [
    "len(results)"
   ]
  }
 ],
 "metadata": {
  "kernelspec": {
   "display_name": "Python 3",
   "language": "python",
   "name": "python3"
  },
  "language_info": {
   "codemirror_mode": {
    "name": "ipython",
    "version": 3
   },
   "file_extension": ".py",
   "mimetype": "text/x-python",
   "name": "python",
   "nbconvert_exporter": "python",
   "pygments_lexer": "ipython3",
   "version": "3.6.8"
  }
 },
 "nbformat": 4,
 "nbformat_minor": 2
}
