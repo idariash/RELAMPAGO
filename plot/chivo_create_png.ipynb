{
 "cells": [
  {
   "cell_type": "code",
   "execution_count": null,
   "metadata": {},
   "outputs": [
    {
     "name": "stdout",
     "output_type": "stream",
     "text": [
      "\n",
      "## You are using the Python ARM Radar Toolkit (Py-ART), an open source\n",
      "## library for working with weather radar data. Py-ART is partly\n",
      "## supported by the U.S. Department of Energy as part of the Atmospheric\n",
      "## Radiation Measurement (ARM) Climate Research Facility, an Office of\n",
      "## Science user facility.\n",
      "##\n",
      "## If you use this software to prepare a publication, please cite:\n",
      "##\n",
      "##     JJ Helmus and SM Collis, JORS 2016, doi: 10.5334/jors.119\n",
      "\n"
     ]
    },
    {
     "name": "stderr",
     "output_type": "stream",
     "text": [
      "/top/students/GRAD/ECE/idariash/home/anaconda3/lib/python3.6/site-packages/matplotlib/pyplot.py:514: RuntimeWarning: More than 20 figures have been opened. Figures created through the pyplot interface (`matplotlib.pyplot.figure`) are retained until explicitly closed and may consume too much memory. (To control this warning, see the rcParam `figure.max_open_warning`).\n",
      "  max_open_warning, RuntimeWarning)\n"
     ]
    }
   ],
   "source": [
    "import chivo_plot as plot\n",
    "import os\n",
    "\n",
    "\n",
    "DataPath = '/net/denali/storage2/radar2/tmp/Ivan/Field_Campaigns/Relampago/Analisis/Attenuation/NetCDF/20190125_1900to2130/DROPS'\n",
    "PNG_Path = '/net/denali/storage2/radar2/tmp/Ivan/Field_Campaigns/Relampago/Analisis/Attenuation/NetCDF/20190125_1900to2130/PNG'\n",
    "\n",
    "Directory = os.listdir(DataPath)\n",
    "\n",
    "for file in Directory:\n",
    "    if 'RHI' in file:\n",
    "        filename = os.path.join(DataPath, file)\n",
    "        file_name = filename[len(filename)-46:len(filename)-31]\n",
    "        i = 0\n",
    "        while True:\n",
    "            try: \n",
    "                fig = plot.rhi_drops(filename, i)\n",
    "                fig_name = os.path.join(PNG_Path, 'rhi/rhi_' + file_name + '_' + str(i) + '.png')\n",
    "                fig.savefig(fig_name)\n",
    "                i = i + 1\n",
    "            except:\n",
    "                break\n",
    "    if 'PNL' in file:\n",
    "        filename = os.path.join(DataPath, file)\n",
    "        file_name = file_name = filename[len(filename)-49:len(filename)-34]\n",
    "        i = 0\n",
    "        while True:\n",
    "            try: \n",
    "                fig = plot.ppi_drops(filename, i)\n",
    "                fig_name = os.path.join(PNG_Path, 'ppi/ppi_' + file_name + '_' + str(i) + '.png')\n",
    "                fig.savefig(fig_name)\n",
    "                i = i + 1\n",
    "            except:\n",
    "                break"
   ]
  },
  {
   "cell_type": "code",
   "execution_count": null,
   "metadata": {},
   "outputs": [],
   "source": []
  }
 ],
 "metadata": {
  "kernelspec": {
   "display_name": "Python 3",
   "language": "python",
   "name": "python3"
  },
  "language_info": {
   "codemirror_mode": {
    "name": "ipython",
    "version": 3
   },
   "file_extension": ".py",
   "mimetype": "text/x-python",
   "name": "python",
   "nbconvert_exporter": "python",
   "pygments_lexer": "ipython3",
   "version": "3.7.6"
  }
 },
 "nbformat": 4,
 "nbformat_minor": 2
}
